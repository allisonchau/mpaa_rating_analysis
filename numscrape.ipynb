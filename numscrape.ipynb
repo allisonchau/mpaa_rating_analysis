{
 "cells": [
  {
   "cell_type": "code",
   "execution_count": 1,
   "metadata": {
    "collapsed": true
   },
   "outputs": [],
   "source": [
    "from bs4 import BeautifulSoup\n",
    "import requests\n",
    "import re\n",
    "import math\n",
    "import pandas as pd\n",
    "import time\n",
    "import numpy as np\n",
    "import bomscrape"
   ]
  },
  {
   "cell_type": "code",
   "execution_count": 2,
   "metadata": {
    "collapsed": true
   },
   "outputs": [],
   "source": [
    "def get_soup(url):\n",
    "    response = requests.get(url) \n",
    "    soup = None\n",
    "    if response.status_code == 200:\n",
    "        page = response.text\n",
    "        soup = BeautifulSoup(page, 'html5lib')\n",
    "    else:\n",
    "        print 'Unresponsive. Trying Again...'\n",
    "        time.sleep(0.5)\n",
    "        return get_soup(url)\n",
    "    return soup\n"
   ]
  },
  {
   "cell_type": "code",
   "execution_count": 3,
   "metadata": {
    "collapsed": false
   },
   "outputs": [],
   "source": [
    "def get_budget():\n",
    "    soup = get_soup('http://www.the-numbers.com/movie/budgets/all')\n",
    "    table = soup.find('table')\n",
    "    df = pd.DataFrame()\n",
    "    for tr in table('tr'):\n",
    "        if tr.find('b') is not None:\n",
    "            movie = tr.find('b').text\n",
    "            budget = bomscrape.clean_int(tr.find_all(class_='data')[1].text)\n",
    "            df = df.append(pd.Series([movie, budget]), ignore_index=True)\n",
    "    df.columns = ['MovieTitle', 'Budget']\n",
    "    return df"
   ]
  },
  {
   "cell_type": "code",
   "execution_count": null,
   "metadata": {
    "collapsed": false
   },
   "outputs": [],
   "source": [
    "print get_budget()"
   ]
  },
  {
   "cell_type": "code",
   "execution_count": null,
   "metadata": {
    "collapsed": true
   },
   "outputs": [],
   "source": []
  }
 ],
 "metadata": {
  "kernelspec": {
   "display_name": "Python 2",
   "language": "python",
   "name": "python2"
  },
  "language_info": {
   "codemirror_mode": {
    "name": "ipython",
    "version": 2
   },
   "file_extension": ".py",
   "mimetype": "text/x-python",
   "name": "python",
   "nbconvert_exporter": "python",
   "pygments_lexer": "ipython2",
   "version": "2.7.10"
  }
 },
 "nbformat": 4,
 "nbformat_minor": 0
}
